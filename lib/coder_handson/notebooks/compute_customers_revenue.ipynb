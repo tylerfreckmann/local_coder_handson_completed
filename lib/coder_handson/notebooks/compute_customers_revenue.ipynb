{
  "metadata": {
    "kernelspec": {
      "name": "python3",
      "display_name": "Python 3",
      "language": "python"
    },
    "language_info": {
      "name": "python",
      "version": "3.7.12",
      "mimetype": "text/x-python",
      "codemirror_mode": {
        "name": "ipython",
        "version": 3
      },
      "pygments_lexer": "ipython3",
      "nbconvert_exporter": "python",
      "file_extension": ".py"
    },
    "tags": [],
    "modifiedBy": "admin",
    "createdOn": 1617636088605,
    "creator": "msakande",
    "customFields": {},
    "hide_input": false
  },
  "nbformat": 4,
  "nbformat_minor": 1,
  "cells": [
    {
      "execution_count": 0,
      "cell_type": "code",
      "metadata": {},
      "source": [
        "import dataiku\nfrom dataiku import pandasutils as pdu\nimport pandas as pd, numpy as np"
      ],
      "outputs": []
    },
    {
      "execution_count": 0,
      "cell_type": "code",
      "metadata": {},
      "source": [
        "# Read recipe inputs\ncustomers_web_joined \u003d dataiku.Dataset(\"customers_web_joined\")\ndf \u003d customers_web_joined.get_dataframe()"
      ],
      "outputs": []
    },
    {
      "execution_count": 0,
      "cell_type": "code",
      "metadata": {},
      "source": [
        "var \u003d "
      ],
      "outputs": []
    },
    {
      "execution_count": 0,
      "cell_type": "code",
      "metadata": {},
      "source": [
        "# Define function to compute target column.\ndef create_target(revenue, v):\n    if revenue \u003e\u003d v:\n        target \u003d 1\n    elif revenue \u003c v:\n        target \u003d 0\n    else:\n        target \u003d revenue\n    return target"
      ],
      "outputs": []
    },
    {
      "execution_count": 0,
      "cell_type": "code",
      "metadata": {},
      "source": [
        "# Apply the function to create the high_value column then drop the revenue column\ndf[\u0027high_value\u0027] \u003d df.revenue.apply(create_target, v \u003d var)\ndf.drop(columns\u003d[\u0027revenue\u0027], inplace\u003dTrue)"
      ],
      "outputs": []
    },
    {
      "execution_count": 0,
      "cell_type": "code",
      "metadata": {},
      "source": [
        ""
      ],
      "outputs": []
    }
  ]
}