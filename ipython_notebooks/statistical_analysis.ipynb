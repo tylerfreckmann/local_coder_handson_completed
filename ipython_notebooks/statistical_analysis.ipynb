{
  "metadata": {
    "createdOn": 1617634652885,
    "creator": "msakande",
    "customFields": {},
    "hide_input": false,
    "kernelspec": {
      "name": "python3",
      "display_name": "Python 3",
      "language": "python"
    },
    "language_info": {
      "name": "python",
      "version": "3.6.8",
      "mimetype": "text/x-python",
      "codemirror_mode": {
        "name": "ipython",
        "version": 3
      },
      "pygments_lexer": "ipython3",
      "nbconvert_exporter": "python",
      "file_extension": ".py"
    },
    "modifiedBy": "user0",
    "tags": [],
    "dkuGit": {
      "gitReference": {
        "remote": "https://github.com/tylerfreckmann/coder_handson.git",
        "checkout": "main",
        "remotePath": "notebooks/statistical_analysis.ipynb",
        "lastHash": "ae4871e7af22fa0392394c0b1c2130eec85ab142",
        "lastTimestamp": 1644984502000
      },
      "lastInteraction": 1644984976679
    }
  },
  "nbformat": 4,
  "nbformat_minor": 1,
  "cells": [
    {
      "cell_type": "markdown",
      "metadata": {},
      "source": [
        "# Statistical analysis (Single Population) on customers_web_joined"
      ]
    },
    {
      "cell_type": "markdown",
      "metadata": {},
      "source": [
        "Univariate analysis is perhaps the simplest form of statistical analysis. The key fact is that only one variable is involved.\n\n\u003ccenter\u003e\u003cstrong\u003eSelect Cell \u003e Run All to execute the whole analysis\u003c/strong\u003e\u003c/center\u003e"
      ]
    },
    {
      "cell_type": "markdown",
      "metadata": {},
      "source": [
        "## Setup and dataset loading \u003ca id\u003d\"setup\" /\u003e \n\nFirst of all, let\u0027s load the libraries that we\u0027ll use"
      ]
    },
    {
      "execution_count": 1,
      "cell_type": "code",
      "metadata": {},
      "source": [
        "%pylab inline"
      ],
      "outputs": [
        {
          "output_type": "stream",
          "text": "Populating the interactive namespace from numpy and matplotlib\n",
          "name": "stdout"
        }
      ]
    },
    {
      "execution_count": 2,
      "cell_type": "code",
      "metadata": {},
      "source": [
        "import dataiku                               # Access to Dataiku datasets\nimport pandas as pd, numpy as np             # Data manipulation \nfrom matplotlib import pyplot as plt         # Graphing\nimport seaborn as sns                        # Graphing\nimport warnings                              # Disable some warnings\nwarnings.filterwarnings(\"ignore\",category\u003dDeprecationWarning)\nfrom scipy import stats                      # Stats"
      ],
      "outputs": []
    },
    {
      "cell_type": "markdown",
      "metadata": {},
      "source": [
        "The first thing we do is now to load the dataset and put aside the three main types of columns:\n\n* Numerics\n* Categorical\n* Dates"
      ]
    },
    {
      "cell_type": "markdown",
      "metadata": {},
      "source": [
        "Load a DSS dataset as a Pandas dataframe. ***UPDATE LINE 3 WITH THE NAME OF YOUR DATASET***"
      ]
    },
    {
      "execution_count": 3,
      "cell_type": "code",
      "metadata": {},
      "source": [
        "# TODO: UPDATE LINE 3 WITH THE NAME OF YOUR DATASET\n# Take a handle on the dataset\nmydataset \u003d dataiku.Dataset(\"customers_web_joined\")\n\ndf \u003d mydataset.get_dataframe()\n\ndf_orig \u003d df.copy()\n\n# Get the column names\nnumerical_columns \u003d list(df.select_dtypes(include\u003d[np.number]).columns)\ncategorical_columns \u003d list(df.select_dtypes(include\u003d[object]).columns)\ndate_columns \u003d list(df.select_dtypes(include\u003d[\u0027\u003cM8[ns]\u0027]).columns)\n\n# Print a quick summary of what we just loaded\nprint(\"Loaded dataset\")\nprint(\"   Rows: %s\" % df.shape[0])\nprint(\"   Columns: %s (%s num, %s cat, %s date)\" % (df.shape[1], \n                                                    len(numerical_columns), len(categorical_columns),\n                                                    len(date_columns)))"
      ],
      "outputs": [
        {
          "output_type": "stream",
          "text": "Loaded dataset\n   Rows: 23979\n   Columns: 11 (4 num, 6 cat, 0 date)\n",
          "name": "stdout"
        }
      ]
    },
    {
      "cell_type": "markdown",
      "metadata": {},
      "source": [
        "## Preprocessing of the data \u003ca id\u003d\"preprocessing\" /\u003e"
      ]
    },
    {
      "cell_type": "markdown",
      "metadata": {},
      "source": [
        "***UPDATE `value_col` WITH THE NAME OF YOUR COLUMN OF INTEREST***"
      ]
    },
    {
      "execution_count": 4,
      "cell_type": "code",
      "metadata": {},
      "source": [
        "value_col \u003d \u0027revenue\u0027\nprint(\"Selected value column is \u0027%s\u0027\" % (value_col))"
      ],
      "outputs": [
        {
          "output_type": "stream",
          "text": "Selected value column is \u0027revenue\u0027\n",
          "name": "stdout"
        }
      ]
    },
    {
      "cell_type": "markdown",
      "metadata": {},
      "source": [
        "We drop rows for which `value_col` is missing"
      ]
    },
    {
      "execution_count": 5,
      "cell_type": "code",
      "metadata": {},
      "source": [
        "df.dropna(subset\u003d[value_col], inplace\u003dTrue)\ndf_pop_1 \u003d df[value_col]"
      ],
      "outputs": []
    },
    {
      "cell_type": "markdown",
      "metadata": {},
      "source": [
        "## Statistical analysis and vizualisation"
      ]
    },
    {
      "cell_type": "markdown",
      "metadata": {},
      "source": [
        "### General statistics\nNumber of records, mean, standard deviation, minimal value, quartiles, maximum value, mode, variance, skewness and kurtosis."
      ]
    },
    {
      "execution_count": 6,
      "cell_type": "code",
      "metadata": {
        "scrolled": true
      },
      "source": [
        "additional_stats \u003d [\"var\", \"skew\", \"kurtosis\"]\nprint(\"Stats about your series:\\n\", df_pop_1.describe().append(pd.Series(NaN if df_pop_1.mode().empty else df_pop_1.mode()[0], index\u003d[\"mode\"])).append(pd.Series([df_pop_1.__getattr__(x)() for x in additional_stats], index\u003dadditional_stats)))"
      ],
      "outputs": [
        {
          "output_type": "stream",
          "text": "Stats about your series:\n count       20141.000000\nmean          180.958223\nstd            70.526005\nmin            28.000000\n25%           136.000000\n50%           176.000000\n75%           221.000000\nmax           549.000000\nmode          174.000000\nvar          4973.917345\nskew            0.721874\nkurtosis        1.491522\ndtype: float64\n",
          "name": "stdout"
        }
      ]
    },
    {
      "cell_type": "markdown",
      "metadata": {},
      "source": [
        "### Histogram\nHistograms let you see the number of occurrences in your value column."
      ]
    },
    {
      "execution_count": 7,
      "cell_type": "code",
      "metadata": {},
      "source": [
        "plt.title(\"Histogram of \"+value_col);\nplt.hist(df_pop_1);"
      ],
      "outputs": [
        {
          "output_type": "display_data",
          "data": {
            "text/plain": "\u003cFigure size 432x288 with 1 Axes\u003e",
            "image/png": "[encoded data removed]"
          },
          "metadata": {}
        }
      ]
    },
    {
      "cell_type": "markdown",
      "metadata": {},
      "source": [
        "### Distplot\nDistplots combine an histogram with a kernel density estimation."
      ]
    },
    {
      "execution_count": 8,
      "cell_type": "code",
      "metadata": {},
      "source": [
        "sns.distplot(df_pop_1);"
      ],
      "outputs": [
        {
          "output_type": "display_data",
          "data": {
            "text/plain": "\u003cFigure size 432x288 with 1 Axes\u003e",
            "image/png": "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\u003d\n"
          },
          "metadata": {}
        }
      ]
    },
    {
      "cell_type": "markdown",
      "metadata": {},
      "source": [
        "### Box plot"
      ]
    },
    {
      "cell_type": "markdown",
      "metadata": {},
      "source": [
        "A simple way of representing statistical data on a plot in which a rectangle is drawn to represent the second and third quartiles, with a vertical line inside to indicate the median value. The lower and upper quartiles are shown as horizontal lines either side of the rectangle."
      ]
    },
    {
      "execution_count": 9,
      "cell_type": "code",
      "metadata": {},
      "source": [
        "sns.boxplot(df_pop_1);"
      ],
      "outputs": [
        {
          "output_type": "display_data",
          "data": {
            "text/plain": "\u003cFigure size 432x288 with 1 Axes\u003e",
            "image/png": "[encoded data removed]"
          },
          "metadata": {}
        }
      ]
    },
    {
      "cell_type": "markdown",
      "metadata": {},
      "source": [
        "### Violin plot"
      ]
    },
    {
      "cell_type": "markdown",
      "metadata": {},
      "source": [
        "The violin plot is similar to box plots, except that they also show the probability density of the data at different values. Violin plots include a marker for the median of the data and a box indicating the interquartile range, as in standard box plots. Overlaid on this box plot is a kernel density estimation. "
      ]
    },
    {
      "execution_count": 10,
      "cell_type": "code",
      "metadata": {},
      "source": [
        "sns.violinplot(df_pop_1);"
      ],
      "outputs": [
        {
          "output_type": "display_data",
          "data": {
            "text/plain": "\u003cFigure size 432x288 with 1 Axes\u003e",
            "image/png": "[encoded data removed]"
          },
          "metadata": {}
        }
      ]
    },
    {
      "cell_type": "markdown",
      "metadata": {},
      "source": [
        "### Letter value plot"
      ]
    },
    {
      "cell_type": "markdown",
      "metadata": {},
      "source": [
        "Letter value plots are an improvement upon boxplots for large datasets.\n\nThey display the median and the quartiles, like a standard box plot, but will also draw boxes for subsequent \"eights\", \"sixteenth\" etc... which are generically called letter values.\n\nA cut off condition will leave a reasonable number of outliers out of the final boxes, helping you spot them easily.\n\nLetter value plots give a good sense of the distribution of data, and of its skewness."
      ]
    },
    {
      "execution_count": 12,
      "cell_type": "code",
      "metadata": {},
      "source": [
        "sns.boxenplot(df_pop_1);"
      ],
      "outputs": [
        {
          "output_type": "display_data",
          "data": {
            "text/plain": "\u003cFigure size 432x288 with 1 Axes\u003e",
            "image/png": "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\u003d\u003d\n"
          },
          "metadata": {}
        }
      ]
    },
    {
      "execution_count": 13,
      "cell_type": "code",
      "metadata": {},
      "source": [
        "df.corr()"
      ],
      "outputs": [
        {
          "output_type": "execute_result",
          "execution_count": 13,
          "data": {
            "text/plain": "                                 age  price_first_item_purchased   revenue  pages_visited  campaign\nage                         1.000000                   -0.000307  0.133654       0.000027 -0.005751\nprice_first_item_purchased -0.000307                    1.000000  0.533136       0.001821  0.009771\nrevenue                     0.133654                    0.533136  1.000000       0.045534 -0.235768\npages_visited               0.000027                    0.001821  0.045534       1.000000  0.019853\ncampaign                   -0.005751                    0.009771 -0.235768       0.019853  1.000000",
            "text/html": "\n            \u003cbutton style\u003d\"display:none\" \n            class\u003d\"btn btn-default ipython-export-btn\" \n            id\u003d\"btn-df-bef04ead-6814-4733-a655-63e263e782c6\" \n            onclick\u003d\"_export_df(\u0027bef04ead-6814-4733-a655-63e263e782c6\u0027)\"\u003e\n                Export dataframe\n            \u003c/button\u003e\n            \n            \u003cscript\u003e\n                \n                function _check_export_df_possible(dfid,yes_fn,no_fn) {\n                    console.log(\u0027Checking dataframe exportability...\u0027)\n                    if(!IPython || !IPython.notebook || !IPython.notebook.kernel || !IPython.notebook.kernel) {\n                        console.log(\u0027Export is not possible (IPython kernel is not available)\u0027)\n                        if(no_fn) {\n                            no_fn();\n                        }\n                    } else {\n                        var pythonCode \u003d \u0027from dataiku.notebook.export import IPythonExporter;IPythonExporter._check_export_stdout(\"\u0027+dfid+\u0027\")\u0027;\n                        IPython.notebook.kernel.execute(pythonCode,{iopub: {output: function(resp) {\n                            console.info(\"Exportability response\", resp);\n                            var size \u003d /^([0-9]+)x([0-9]+)$/.exec(resp.content.data || resp.content.text)\n                            if(!size) {\n                                console.log(\u0027Export is not possible (dataframe is not in-memory anymore)\u0027)\n                                if(no_fn) {\n                                    no_fn();\n                                }\n                            } else {\n                                console.log(\u0027Export is possible\u0027)\n                                if(yes_fn) {\n                                    yes_fn(1*size[1],1*size[2]);\n                                }\n                            }\n                        }}});\n                    }\n                }\n            \n                function _export_df(dfid) {\n                    \n                    var btn \u003d $(\u0027#btn-df-\u0027+dfid);\n                    var btns \u003d $(\u0027.ipython-export-btn\u0027);\n                    \n                    _check_export_df_possible(dfid,function() {\n                        \n                        window.parent.openExportModalFromIPython(\u0027Pandas dataframe\u0027,function(data) {\n                            btns.prop(\u0027disabled\u0027,true);\n                            btn.text(\u0027Exporting...\u0027);\n                            var command \u003d \u0027from dataiku.notebook.export import IPythonExporter;IPythonExporter._run_export(\"\u0027+dfid+\u0027\",\"\u0027+data.exportId+\u0027\")\u0027;\n                            var callback \u003d {iopub:{output: function(resp) {\n                                console.info(\"CB resp:\", resp);\n                                _check_export_df_possible(dfid,function(rows, cols) {\n                                    $(\u0027#btn-df-\u0027+dfid)\n                                        .css(\u0027display\u0027,\u0027inline-block\u0027)\n                                        .text(\u0027Export this dataframe (\u0027+rows+\u0027 rows, \u0027+cols+\u0027 cols)\u0027)\n                                        .prop(\u0027disabled\u0027,false);\n                                },function() {\n                                    $(\u0027#btn-df-\u0027+dfid).css(\u0027display\u0027,\u0027none\u0027);\n                                });\n                            }}};\n                            IPython.notebook.kernel.execute(command,callback,{silent:false}); // yes, silent now defaults to true. figures.\n                        });\n                    \n                    }, function(){\n                            alert(\u0027Unable to export : the Dataframe object is not loaded in memory\u0027);\n                            btn.css(\u0027display\u0027,\u0027none\u0027);\n                    });\n                    \n                }\n                \n                (function(dfid) {\n                \n                    var retryCount \u003d 10;\n                \n                    function is_valid_websock(s) {\n                        return s \u0026\u0026 s.readyState\u003d\u003d1;\n                    }\n                \n                    function check_conn() {\n                        \n                        if(!IPython || !IPython.notebook) {\n                            // Don\u0027t even try to go further\n                            return;\n                        }\n                        \n                        // Check if IPython is ready\n                        console.info(\"Checking conn ...\")\n                        if(IPython.notebook.kernel\n                        \u0026\u0026 IPython.notebook.kernel\n                        \u0026\u0026 is_valid_websock(IPython.notebook.kernel.ws)\n                        ) {\n                            \n                            _check_export_df_possible(dfid,function(rows, cols) {\n                                $(\u0027#btn-df-\u0027+dfid).css(\u0027display\u0027,\u0027inline-block\u0027);\n                                $(\u0027#btn-df-\u0027+dfid).text(\u0027Export this dataframe (\u0027+rows+\u0027 rows, \u0027+cols+\u0027 cols)\u0027);\n                            });\n                            \n                        } else {\n                            console.info(\"Conditions are not ok\", IPython.notebook.kernel);\n                            \n                            // Retry later\n                            \n                            if(retryCount\u003e0) {\n                                setTimeout(check_conn,500);\n                                retryCount--;\n                            }\n                            \n                        }\n                    };\n                    \n                    setTimeout(check_conn,100);\n                    \n                })(\"bef04ead-6814-4733-a655-63e263e782c6\");\n                \n            \u003c/script\u003e\n            \n        \u003cdiv\u003e\n\u003cstyle scoped\u003e\n    .dataframe tbody tr th:only-of-type {\n        vertical-align: middle;\n    }\n\n    .dataframe tbody tr th {\n        vertical-align: top;\n    }\n\n    .dataframe thead th {\n        text-align: right;\n    }\n\u003c/style\u003e\n\u003ctable border\u003d\"1\" class\u003d\"dataframe\"\u003e\n  \u003cthead\u003e\n    \u003ctr style\u003d\"text-align: right;\"\u003e\n      \u003cth\u003e\u003c/th\u003e\n      \u003cth\u003eage\u003c/th\u003e\n      \u003cth\u003eprice_first_item_purchased\u003c/th\u003e\n      \u003cth\u003erevenue\u003c/th\u003e\n      \u003cth\u003epages_visited\u003c/th\u003e\n      \u003cth\u003ecampaign\u003c/th\u003e\n    \u003c/tr\u003e\n  \u003c/thead\u003e\n  \u003ctbody\u003e\n    \u003ctr\u003e\n      \u003cth\u003eage\u003c/th\u003e\n      \u003ctd\u003e1.000000\u003c/td\u003e\n      \u003ctd\u003e-0.000307\u003c/td\u003e\n      \u003ctd\u003e0.133654\u003c/td\u003e\n      \u003ctd\u003e0.000027\u003c/td\u003e\n      \u003ctd\u003e-0.005751\u003c/td\u003e\n    \u003c/tr\u003e\n    \u003ctr\u003e\n      \u003cth\u003eprice_first_item_purchased\u003c/th\u003e\n      \u003ctd\u003e-0.000307\u003c/td\u003e\n      \u003ctd\u003e1.000000\u003c/td\u003e\n      \u003ctd\u003e0.533136\u003c/td\u003e\n      \u003ctd\u003e0.001821\u003c/td\u003e\n      \u003ctd\u003e0.009771\u003c/td\u003e\n    \u003c/tr\u003e\n    \u003ctr\u003e\n      \u003cth\u003erevenue\u003c/th\u003e\n      \u003ctd\u003e0.133654\u003c/td\u003e\n      \u003ctd\u003e0.533136\u003c/td\u003e\n      \u003ctd\u003e1.000000\u003c/td\u003e\n      \u003ctd\u003e0.045534\u003c/td\u003e\n      \u003ctd\u003e-0.235768\u003c/td\u003e\n    \u003c/tr\u003e\n    \u003ctr\u003e\n      \u003cth\u003epages_visited\u003c/th\u003e\n      \u003ctd\u003e0.000027\u003c/td\u003e\n      \u003ctd\u003e0.001821\u003c/td\u003e\n      \u003ctd\u003e0.045534\u003c/td\u003e\n      \u003ctd\u003e1.000000\u003c/td\u003e\n      \u003ctd\u003e0.019853\u003c/td\u003e\n    \u003c/tr\u003e\n    \u003ctr\u003e\n      \u003cth\u003ecampaign\u003c/th\u003e\n      \u003ctd\u003e-0.005751\u003c/td\u003e\n      \u003ctd\u003e0.009771\u003c/td\u003e\n      \u003ctd\u003e-0.235768\u003c/td\u003e\n      \u003ctd\u003e0.019853\u003c/td\u003e\n      \u003ctd\u003e1.000000\u003c/td\u003e\n    \u003c/tr\u003e\n  \u003c/tbody\u003e\n\u003c/table\u003e\n\u003c/div\u003e"
          },
          "metadata": {}
        }
      ]
    },
    {
      "execution_count": 0,
      "cell_type": "code",
      "metadata": {},
      "source": [
        ""
      ],
      "outputs": []
    }
  ]
}